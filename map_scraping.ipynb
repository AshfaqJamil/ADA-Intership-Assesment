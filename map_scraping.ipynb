{
 "cells": [
  {
   "cell_type": "code",
   "execution_count": 13,
   "metadata": {},
   "outputs": [],
   "source": [
    "API_KEY =  ''\n",
    "import json\n",
    "from urllib.parse import urlencode\n",
    "import requests\n",
    "import math"
   ]
  },
  {
   "cell_type": "code",
   "execution_count": 5,
   "metadata": {},
   "outputs": [],
   "source": [
    "geocoding_base_url = 'https://maps.googleapis.com/maps/api/geocode/json'"
   ]
  },
  {
   "cell_type": "markdown",
   "metadata": {},
   "source": [
    "# Extracting the cordinates(lat,lng) of all the divisions of Bangladesh\n"
   ]
  },
  {
   "cell_type": "code",
   "execution_count": 23,
   "metadata": {},
   "outputs": [
    {
     "name": "stdout",
     "output_type": "stream",
     "text": [
      "{'Barisal': {'lat': 22.7010021, 'lng': 90.35345110000002}, 'Chittagong': {'lat': 22.356851, 'lng': 91.7831819}, 'Dhaka': {'lat': 23.810332, 'lng': 90.4125181}, 'Khulna': {'lat': 22.845641, 'lng': 89.5403279}, 'Mymensingh': {'lat': 24.7471492, 'lng': 90.4202734}, 'Rajshahi': {'lat': 24.3745146, 'lng': 88.60416599999999}, 'Rangpur': {'lat': 25.7438916, 'lng': 89.275227}, 'Syleth': {'lat': 24.8949294, 'lng': 91.8687063}}\n"
     ]
    }
   ],
   "source": [
    "divisions = ['Barisal', 'Chittagong','Dhaka','Khulna','Mymensingh','Rajshahi','Rangpur', 'Syleth']\n",
    "division_locations = {}\n",
    "for division in divisions:\n",
    "    params= {\n",
    "        'address':division,\n",
    "        'key':API_KEY,\n",
    "    }\n",
    "    url_params = urlencode(params)\n",
    "    url = f\"{geocoding_base_url}?{url_params}\"\n",
    "    r = requests.get(url)\n",
    "    latlang = r.json()['results'][0]['geometry']['location']\n",
    "    division_locations[division]=latlang\n",
    "\n",
    "print(division_locations)\n"
   ]
  },
  {
   "cell_type": "markdown",
   "metadata": {},
   "source": [
    "# Restricting the search radius according to the size of the divisions\n",
    "* Barishal - 13,225.20 km^2\n",
    "* Chittagong - 33,908.55 km^2\n",
    "* Dhaka - 20,593.74 km^2\n",
    "* Khulna - 22,284.22 km^2\n",
    "* Mymensingh - 10,584.06 km^2\n",
    "* Rajshahi - 18,153.08 km^2\n",
    "* Rangpur - 16,184.99 km^2\n",
    "* Syleth - 12,635.22 km^2\n",
    "### This data was collected from wikipedia.(https://en.wikipedia.org/wiki/Divisions_of_Bangladesh)"
   ]
  },
  {
   "cell_type": "code",
   "execution_count": 34,
   "metadata": {},
   "outputs": [],
   "source": [
    "\n",
    "size ={ \n",
    "    'Barisal' : 13225.20,\n",
    "    'Chittagong' : 33908.55,\n",
    "    'Dhaka' : 20593.74,\n",
    "    'Khulna' : 22284.22,\n",
    "    'Mymensingh' : 10584.06,\n",
    "    'Rajshahi' : 18153.08,\n",
    "    'Rangpur' : 16184.99,\n",
    "    'Syleth' : 12635.22,\n",
    "    }\n",
    "\n",
    "search_radius={}\n",
    "for s in size:\n",
    "    search_radius[s]= math.floor( math.sqrt(size[s])*1000) # Converted the search radius into meters"
   ]
  },
  {
   "cell_type": "code",
   "execution_count": 35,
   "metadata": {},
   "outputs": [
    {
     "data": {
      "text/plain": [
       "{'Barisal': 115000,\n",
       " 'Chittagong': 184142,\n",
       " 'Dhaka': 143505,\n",
       " 'Khulna': 149279,\n",
       " 'Mymensingh': 102878,\n",
       " 'Rajshahi': 134733,\n",
       " 'Rangpur': 127220,\n",
       " 'Syleth': 112406}"
      ]
     },
     "execution_count": 35,
     "metadata": {},
     "output_type": "execute_result"
    }
   ],
   "source": [
    "search_radius"
   ]
  },
  {
   "cell_type": "code",
   "execution_count": null,
   "metadata": {},
   "outputs": [],
   "source": [
    "places_base_url = 'https://maps.googleapis.com/maps/api/place/nearbysearch/json'\n",
    "\n",
    "for division_location in division_locations:\n",
    "    params_2 = {\n",
    "    \"location\":f\"{division_locations[division]['lat'] },{division_locations[division]['lng']}\",\n",
    "    \"input\": \"Resturant\",\n",
    "    \"inputtype\": \"textquery\",\n",
    "    \"radius\":search_radius[division_location],\n",
    "    \"key\": API_KEY\n",
    "    }\n",
    "    url_params_2 = urlencode(params_2)\n",
    "    places_url = f\"{places_base_url}?{url_params_2}\" \n",
    "    r2 = requests.get(places_url)\n",
    "       "
   ]
  }
 ],
 "metadata": {
  "interpreter": {
   "hash": "ca82210aad1966eeba3e5318f8fc4c5c041136f63cc42f9be5120113bb632f5c"
  },
  "kernelspec": {
   "display_name": "Python 3.8.12 64-bit ('webScrapingEnv': conda)",
   "language": "python",
   "name": "python3"
  },
  "language_info": {
   "codemirror_mode": {
    "name": "ipython",
    "version": 3
   },
   "file_extension": ".py",
   "mimetype": "text/x-python",
   "name": "python",
   "nbconvert_exporter": "python",
   "pygments_lexer": "ipython3",
   "version": "3.8.12"
  },
  "orig_nbformat": 4
 },
 "nbformat": 4,
 "nbformat_minor": 2
}
